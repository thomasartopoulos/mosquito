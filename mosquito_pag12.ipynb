{
  "nbformat": 4,
  "nbformat_minor": 0,
  "metadata": {
    "kernelspec": {
      "display_name": "Python 3",
      "language": "python",
      "name": "python3"
    },
    "language_info": {
      "codemirror_mode": {
        "name": "ipython",
        "version": 3
      },
      "file_extension": ".py",
      "mimetype": "text/x-python",
      "name": "python",
      "nbconvert_exporter": "python",
      "pygments_lexer": "ipython3",
      "version": "3.7.7"
    },
    "colab": {
      "name": "notoken_mosquito_pag12.ipynb",
      "provenance": [],
      "collapsed_sections": [
        "mScSU57nYIoy",
        "bsLcX-tAS5qa",
        "qOYX4ulLTFrU",
        "Lw7DNkxkTK5y"
      ]
    }
  },
  "cells": [
    {
      "cell_type": "markdown",
      "metadata": {
        "id": "ICt2LRFyHsdb"
      },
      "source": [
        "google cloud functions\n"
      ]
    },
    {
      "cell_type": "code",
      "metadata": {
        "colab": {
          "base_uri": "https://localhost:8080/",
          "height": 1000
        },
        "id": "SgY89XvvHrff",
        "outputId": "82ad4a48-e825-4467-a55c-c0a10627b794"
      },
      "source": [
        "!pip install TwitterAPI\n",
        "!pip install -U kaleido\n",
        "!pip install orca==1.2.1\n",
        "!pip install plotly==4.7.1\n",
        "!wget https://github.com/plotly/orca/releases/download/v1.2.1/orca-1.2.1-x86_64.AppImage -O /usr/local/bin/orca\n",
        "!chmod +x /usr/local/bin/orca\n",
        "!apt-get install xvfb libgtk2.0-0 libgconf-2-4\n",
        "import requests\n",
        "import json\n",
        "from operator import itemgetter\n",
        "from bs4 import BeautifulSoup\n",
        "import networkx as nx\n",
        "from TwitterAPI import TwitterAPI\n",
        "import urllib\n",
        "from math import pi\n",
        "import matplotlib.pyplot as plt\n",
        "import pandas as pd\n",
        "import numpy as np\n",
        "from skimage import io\n",
        "from io import BytesIO\n",
        "import datetime\n",
        "from wordcloud import WordCloud, STOPWORDS\n",
        "from PIL import Image\n",
        "import random\n",
        "from plotly.offline import init_notebook_mode, iplot\n",
        "import plotly.express as ex\n",
        "import plotly.graph_objs as go\n",
        "import requests\n",
        "import json\n",
        "from operator import itemgetter\n",
        "from bs4 import BeautifulSoup\n",
        "import plotly.graph_objects as go\n",
        "import networkx as nx\n",
        "from TwitterAPI import TwitterAPI\n",
        "import urllib\n",
        "from math import pi\n",
        "import matplotlib.pyplot as plt\n",
        "import pandas as pd\n",
        "import numpy as np\n",
        "from skimage import io\n",
        "from io import BytesIO\n",
        "import datetime\n",
        "from wordcloud import WordCloud, STOPWORDS\n",
        "from PIL import Image\n",
        "import random\n",
        "\n",
        "outliers = [\"www\",\"términos\",\"condiciones\",\"privacidad\",\"reservados\",\"derechos\",\"ar\",\"Palabras\",\"lunes\",\"martes\",\"miércoles\",\"miercoles\",\"jueves\",\"viernes\",\"sábado\",\"sabado,\",\"domingo\",\"dtype\",\"Frecuencia\",'buena', 'cinco', 'tan', 'camino',  'posible', 'local', 'junto' , 'final', 'iba',  'grupo', 'medida',  'explicó', 'dio', 'viernes',  'aún', 'estamos', 'lado', 'nueva', 'agregó', 'respecto', 'ella', 'partir',  'tema', 'zona', 'centro', 'hubo', 'tenemos', 'unos',  'hombre', 'sea', 'llegar', 'dentro', 'información', 'estas',  'veces', 'bajo', 'esos', 'entonces', 'nunca', 'hacia', 'sí', 'quedó', 'hecho', 'misma', 'mil', 'chicos', 'sigue', 'fin', 'decir', 'volver', 'allí', 'nada',  'quienes', 'muchos', 'decisión', 'importante', 'frente', 'estados', 'será', 'relación', 'pasó', 'poder', 'total', 'ir', 'debe', 'pueden',  'sino',  'otras', 'haber', 'través', 'causa', 'mes',  'dice', 'nuevo', 'mejor', 'ver', 'cuerpo', 'estar', 'tenía', 'casi', 'poco', 'primer', 'llegó', 'sólo', 'gente', 'cosas', 'estos', 'mayor', 'primera','algunos', 'mucho', 'forma', 'sido', 'siempre', 'hizo',  'va', 'algo', 'han', 'tienen',  'te', 'aires', 'medio', 'todas', 'él', 'horas', 'tras', 'ellos', 'meses', 'estaba', 'aunque', 'gran', 'antes', 'tener',  'fueron', 'les', 'us', 'menos', 'ante', 'esto', 'otra',  'tanto', 'e', 'pasado', 'solo', 'vida', 'manera', 'semana', 'ni', 'buenos', 'día', 'momento', 'luego', 'tiempo', 'bien', 'otro', 'qué', 'mientras', 'mismo', 'martes', 'otros', 'cómo', 'tres', 'dólares', 'hacer', 'yo', 'contra', 'lunes', 'hace', 'nos', 'están','quien', 'además', 'así', 'lugar', 'uno', 'después', 'durante', 'mi', 'hoy', 'vez', 'año', 'días', 'según', 'país', 'esa', 'cada', 'ahora', 'personas', 'eso', 'puede', 'muy', 'parte', 'dijo', 'era', 'argentina', 'todos', 'ha', 'tiene', 'donde', 'porque', 'ser', 'ese', 'millones', 'todo', 'hasta', 'dos', 'había', 'esta', 'sin', 'son', 'está', 'cuando', 'ya', 'años', 'me', 'hay', 'también', 'entre', 'si', 'sobre', 'sus', 'desde', 'o', 'le', 'este', 'fue', 'pero', 'como', 'más', 'lo', 'su', 'al', 'es', 'no', 'para', 'una', 'con', 'las', 'por', 'un', 'quot', 'se', 'del', 'los', 'a', 'y', 'en', 'que','el','la','de']\n",
        "\n",
        "def make_edge(x, y, text, width):\n",
        "    return  go.Scatter(x         = x,\n",
        "                       y         = y,\n",
        "                       line      = dict(width = width,\n",
        "                                   color = 'cornflowerblue'),\n",
        "                       hoverinfo = 'text',\n",
        "                       text      = ([text]),\n",
        "                       mode      = 'lines')\n",
        "    \n",
        "def seccionLinks(url):\n",
        "  linkanterior = \"\"\n",
        "  linksadevolver = []\n",
        "  req = requests.get(url)\n",
        "  soup = BeautifulSoup(req.text, \"lxml\")\n",
        "  lista = soup.find_all('item')\n",
        "  indice =0\n",
        "  while indice<len(lista):\n",
        "    link = lista[indice].get_text()\n",
        "    h = 1\n",
        "    linkver = \"\"\n",
        "    while h<len(link):\n",
        "      if link[h:h+5]== \"https\":\n",
        "        linkver=link[0:h]\n",
        "        h = len(link)       \n",
        "      h+=1\n",
        "    if linkver != None:\n",
        "      if linkver!=linkanterior:\n",
        "        linkanterior=linkver\n",
        "        linksadevolver.append(linkver)\n",
        "    indice+=1\n",
        "  return linksadevolver\n",
        "\n",
        "def palabrasArticulo(url):\n",
        "  palabras = []\n",
        "  req = requests.get(url)\n",
        "  soup = BeautifulSoup(req.text, \"lxml\")\n",
        "  #juan = json.loads(soup.find('script',type=\"application/ld+json\").text)\n",
        "  juan = soup.find_all('p')\n",
        "  for items in juan:\n",
        "    if items.get_text() != 'República Argentina | Todos los derechos reservados | Política de privacidad | Términos y Condiciones© 2000-2020 www.pagina12.com.ar':\n",
        "      palabras+=separaPalabras(items.get_text())\n",
        "  #palabras+=(separaPalabras(juan[\"alternativeHeadline\"]))\n",
        "  #palabras+=(separaPalabras(juan[\"articleBody\"]))\n",
        "  return palabras\n",
        "\n",
        "def palabrasArticuloBis(url):\n",
        "  frases = []\n",
        "  req = requests.get(url)\n",
        "  soup = BeautifulSoup(req.text, \"lxml\")\n",
        "  juan = soup.find_all('p')\n",
        "  for items in juan:\n",
        "    if items.get_text() != 'República Argentina | Todos los derechos reservados | Política de privacidad | Términos y Condiciones© 2000-2020 www.pagina12.com.ar':\n",
        "      frases+=(separaFrases(items.get_text()))\n",
        "  return frases\n",
        "\n",
        "def separaPalabras(frase):\n",
        "  palabras=[]\n",
        "  i =0\n",
        "  while i<len(frase):\n",
        "    if frase[i].isalpha():\n",
        "      h=i+1\n",
        "      while h<len(frase):\n",
        "        if h==len(frase)-1:\n",
        "          if frase[h].isalpha():\n",
        "            if frase[i:h+1].lower() not in outliers:\n",
        "              palabras.append(frase[i:h+1].lower())\n",
        "          else :\n",
        "            if frase[i:h].lower() not in outliers:\n",
        "              palabras.append(frase[i:h].lower())\n",
        "          i = len(frase)\n",
        "        elif frase[h].isalpha()!= True:\n",
        "          if frase[i:h].lower() not in outliers:\n",
        "            palabras.append(frase[i:h].lower())\n",
        "          i = h         \n",
        "          h = len(frase)\n",
        "        h+=1\n",
        "    i+=1\n",
        "  return palabras\n",
        "\n",
        "def separaFrases(frase):\n",
        "  palabras=[]\n",
        "  i =0\n",
        "  while i<len(frase):\n",
        "    h=i+1\n",
        "    while h<len(frase):\n",
        "      if h==len(frase)-1:\n",
        "        palabras.append(frase[i:h])\n",
        "        i = len(frase)\n",
        "      elif frase[h]== \".\":\n",
        "        palabras.append(frase[i:h])\n",
        "        i = h       \n",
        "        h = len(frase)\n",
        "      h+=1\n",
        "    i+=1\n",
        "  return palabras\n",
        "\n",
        "def relacionaPalabras(frase,relacionadorDePalabras):\n",
        "  i = 0\n",
        "  while i < len(frase)-1:\n",
        "    h = i+1\n",
        "    while h < len(frase):\n",
        "      if frase[i] in relacionadorDePalabras and frase[h] in relacionadorDePalabras[frase[i]]:\n",
        "        relacionadorDePalabras[frase[i]][frase[h]] +=1\n",
        "        relacionadorDePalabras[frase[h]][frase[i]] +=1\n",
        "      else:\n",
        "        if frase[i] in relacionadorDePalabras:\n",
        "          relacionadorDePalabras[frase[i]][frase[h]] = 1\n",
        "          if frase[h] in relacionadorDePalabras:\n",
        "            relacionadorDePalabras[frase[h]][frase[i]] = 1\n",
        "          else:\n",
        "            relacionadorDePalabras[frase[h]] = {}\n",
        "            relacionadorDePalabras[frase[h]][frase[i]] = 1\n",
        "        else:\n",
        "          relacionadorDePalabras[frase[i]] = {}\n",
        "          relacionadorDePalabras[frase[i]][frase[h]] = 1\n",
        "          if frase[h] in relacionadorDePalabras:\n",
        "            relacionadorDePalabras[frase[h]][frase[i]] = 1\n",
        "          else:\n",
        "            relacionadorDePalabras[frase[h]] = {}\n",
        "            relacionadorDePalabras[frase[h]][frase[i]] = 1\n",
        "      h+=1\n",
        "    i+=1\n",
        "\n",
        "def palabrasMaspalabrasMenos(palabras):\n",
        "  tuplaPalabras = []\n",
        "  i = 0\n",
        "  while i<len(palabras):\n",
        "    palabreta = palabras[i]\n",
        "    loEncontro = False\n",
        "    h = 0\n",
        "    while h<len(tuplaPalabras):\n",
        "      if palabreta==tuplaPalabras[h][0]:\n",
        "        loEncontro = True\n",
        "        nuevatupla = (tuplaPalabras[h][0],tuplaPalabras[h][1]+1)\n",
        "        tuplaPalabras[h]= nuevatupla\n",
        "        h = len(tuplaPalabras)\n",
        "      h+=1\n",
        "    if loEncontro == False:\n",
        "      tupla = (palabreta,1)\n",
        "      tuplaPalabras.append(tupla)\n",
        "    i+=1\n",
        "  return sorted(tuplaPalabras, key=itemgetter(1))\n",
        "\n",
        "def color_func_clarin(word, font_size, position, orientation, random_state=None,**kwargs):\n",
        "  return \"hsl(360, 100%%, %d%%)\" % random.randint(30,50)\n",
        "\n",
        "def hello_world(request):\n",
        "  outliers = [\"Palabras\",\"lunes\",\"martes\",\"miércoles\",\"miercoles\",\"jueves\",\"viernes\",\"sábado\",\"sabado,\",\"domingo\",\"dtype\",\"Frecuencia\",'buena', 'cinco', 'tan', 'camino',  'posible', 'local', 'junto' , 'final', 'iba',  'grupo', 'medida',  'explicó', 'dio', 'viernes',  'aún', 'estamos', 'lado', 'nueva', 'agregó', 'respecto', 'ella', 'partir',  'tema', 'zona', 'centro', 'hubo', 'tenemos', 'unos',  'hombre', 'sea', 'llegar', 'dentro', 'información', 'estas',  'veces', 'bajo', 'esos', 'entonces', 'nunca', 'hacia', 'sí', 'quedó', 'hecho', 'misma', 'mil', 'chicos', 'sigue', 'fin', 'decir', 'volver', 'allí', 'nada',  'quienes', 'muchos', 'decisión', 'importante', 'frente', 'estados', 'será', 'relación', 'pasó', 'poder', 'total', 'ir', 'debe', 'pueden',  'sino',  'otras', 'haber', 'través', 'causa', 'mes',  'dice', 'nuevo', 'mejor', 'ver', 'cuerpo', 'estar', 'tenía', 'casi', 'poco', 'primer', 'llegó', 'sólo', 'gente', 'cosas', 'estos', 'mayor', 'primera','algunos', 'mucho', 'forma', 'sido', 'siempre', 'hizo',  'va', 'algo', 'han', 'tienen',  'te', 'aires', 'medio', 'todas', 'él', 'horas', 'tras', 'ellos', 'meses', 'estaba', 'aunque', 'gran', 'antes', 'tener',  'fueron', 'les', 'us', 'menos', 'ante', 'esto', 'otra',  'tanto', 'e', 'pasado', 'solo', 'vida', 'manera', 'semana', 'ni', 'buenos', 'día', 'momento', 'luego', 'tiempo', 'bien', 'otro', 'qué', 'mientras', 'mismo', 'martes', 'otros', 'cómo', 'tres', 'dólares', 'hacer', 'yo', 'contra', 'lunes', 'hace', 'nos', 'están','quien', 'además', 'así', 'lugar', 'uno', 'después', 'durante', 'mi', 'hoy', 'vez', 'año', 'días', 'según', 'país', 'esa', 'cada', 'ahora', 'personas', 'eso', 'puede', 'muy', 'parte', 'dijo', 'era', 'argentina', 'todos', 'ha', 'tiene', 'donde', 'porque', 'ser', 'ese', 'millones', 'todo', 'hasta', 'dos', 'había', 'esta', 'sin', 'son', 'está', 'cuando', 'ya', 'años', 'me', 'hay', 'también', 'entre', 'si', 'sobre', 'sus', 'desde', 'o', 'le', 'este', 'fue', 'pero', 'como', 'más', 'lo', 'su', 'al', 'es', 'no', 'para', 'una', 'con', 'las', 'por', 'un', 'quot', 'se', 'del', 'los', 'a', 'y', 'en', 'que','el','la','de']\n",
        "\n",
        "  x = datetime.datetime.now()\n",
        "  fechaHoy = str(x.day)+\"/\"+str(x.month)+\"/\"+str(x.year)\n",
        "  secciones = {\"el-pais\":[],\"economia\":[],\"sociedad\":[],\"deportes\":[],\"cultura-y-espectaculos\":[],\"el-mundo\":[]}\n",
        "  total = []\n",
        "  relacionador = {}\n",
        "  listadeerrores = \"\"\n",
        "  for keys in secciones:\n",
        "    articulos = seccionLinks(\"https://www.pagina12.com.ar/rss/secciones/\"+keys+\"/notas\")\n",
        "    for articulo in articulos:\n",
        "      #try:\n",
        "      frases = palabrasArticuloBis(articulo)\n",
        "      for frase in frases:\n",
        "        relacionaPalabras(separaPalabras(frase),relacionador)\n",
        "      secciones[keys] += palabrasArticulo(articulo)   \n",
        "      total += palabrasArticulo(articulo)\n",
        "      #except Exception as e:\n",
        "      #listadeerrores+= str(e)\n",
        "  for keys in secciones:\n",
        "    secciones[keys] = palabrasMaspalabrasMenos(secciones[keys])\n",
        "  total = palabrasMaspalabrasMenos(total)\n",
        "\n",
        "\n",
        "\n",
        "  registrador = {}\n",
        "  eliminar = []\n",
        "  miNet = nx.Graph()\n",
        "  listadeGrandes = []\n",
        "  diccionarioTamNodos = {}\n",
        "\n",
        "  for palabra in relacionador:\n",
        "    tamNodo = 0\n",
        "    for keys in secciones:\n",
        "      for tuplas in secciones[keys]:\n",
        "        if tuplas[0] == palabra:\n",
        "          tamNodo+= tuplas[1]\n",
        "    diccionarioTamNodos[palabra] = tamNodo\n",
        "    if len(listadeGrandes)<16:\n",
        "        listadeGrandes.append(palabra)\n",
        "    else:\n",
        "      menor = palabra\n",
        "      posicion = 100\n",
        "      for palabre in listadeGrandes:\n",
        "        if diccionarioTamNodos[palabre]<diccionarioTamNodos[menor]:\n",
        "          menor = palabre\n",
        "          posicion = listadeGrandes.index(palabre)\n",
        "      if menor != palabra:\n",
        "        listadeGrandes[posicion]=palabra\n",
        "  \n",
        "  \n",
        "  for palabras in listadeGrandes:\n",
        "    miNet.add_node(palabras,size = diccionarioTamNodos[palabras]/20)\n",
        "\n",
        "  indice = 0\n",
        "  while indice < len(listadeGrandes)-1:\n",
        "    indice2 = indice+1\n",
        "    while indice2 < len(listadeGrandes):\n",
        "      tamTrace = 0\n",
        "      if listadeGrandes[indice2] in relacionador[listadeGrandes[indice]]:\n",
        "        if relacionador[listadeGrandes[indice]][listadeGrandes[indice2]]> min(diccionarioTamNodos[listadeGrandes[indice]]/20,diccionarioTamNodos[listadeGrandes[indice2]]/20):\n",
        "          tamTrace = min(diccionarioTamNodos[listadeGrandes[indice]]/20,diccionarioTamNodos[listadeGrandes[indice2]]/20)\n",
        "        else:\n",
        "          tamTrace = relacionador[listadeGrandes[indice]][listadeGrandes[indice2]]\n",
        "        miNet.add_edge(listadeGrandes[indice], listadeGrandes[indice2], weight = (tamTrace))\n",
        "      indice2+=1\n",
        "    indice+=1\n",
        "\n",
        "  pos_ = nx.spring_layout(miNet)\n",
        "\n",
        "  edge_trace = []\n",
        "  for edge in miNet.edges():\n",
        "    char_1 = edge[0]\n",
        "    char_2 = edge[1]\n",
        "    x0, y0 = pos_[char_1]\n",
        "    x1, y1 = pos_[char_2]\n",
        "    text   = char_1 + '--' + char_2 + ': ' + str(miNet.edges()[edge]['weight'])\n",
        "    trace  = make_edge([x0, x1, None], [y0, y1, None], text, width = 0.3*miNet.edges()[edge]['weight']**1.75)\n",
        "    edge_trace.append(trace)\n",
        "\n",
        "  # Make a node trace\n",
        "  node_trace = go.Scatter(x         = [],\n",
        "                          y         = [],\n",
        "                          text      = [],\n",
        "                          textposition = \"top center\",\n",
        "                          textfont_size = 10,\n",
        "                          mode      = 'markers+text',\n",
        "                          hoverinfo = 'none',\n",
        "                          marker    = dict(color = [],\n",
        "                                          size  = [],\n",
        "                                          line  = None))\n",
        "\n",
        "   # For each node in midsummer, get the position and size and add to the node_trace\n",
        "  for node in miNet.nodes():\n",
        "    x, y = pos_[node]\n",
        "    node_trace['x'] += tuple([x])\n",
        "    node_trace['y'] += tuple([y])\n",
        "    node_trace['marker']['color'] += tuple(['cornflowerblue'])\n",
        "    node_trace['marker']['size'] += tuple([5*miNet.nodes()[node]['size']])\n",
        "    node_trace['text'] += tuple(['<b>' + node + '</b>'])\n",
        "\n",
        "  # Customize layout\n",
        "  layout = go.Layout(\n",
        "      #paper_bgcolor='rgba(0,0,0,0)',\n",
        "      #plot_bgcolor='rgba(0,0,0,0)', \n",
        "      xaxis =  {'showgrid': False, 'zeroline': False}, # no gridlines\n",
        "      yaxis = {'showgrid': False, 'zeroline': False}, # no gridlines\n",
        "  )# Create figure\n",
        "  fig = go.Figure(layout = layout)# Add all edge traces\n",
        "  print(\"los nodos estan\")\n",
        "  for r in edge_trace:\n",
        "    fig.add_trace(r)\n",
        "\n",
        "      # Add node trace\n",
        "  fig.add_trace(node_trace)# Remove legend\n",
        "  fig.update_layout(showlegend = False)# Remove tick labels\n",
        "  fig.update_xaxes(showticklabels = False)\n",
        "  fig.update_yaxes(showticklabels = False)\n",
        "\n",
        "  img_bytes = fig.to_image(format=\"png\")\n",
        "  data = img_bytes\n",
        "  statustw = 'Relacion de Palabras del dia Pagina12'\n",
        "  r = api.request('statuses/update_with_media', {'status': statustw}, {'media[]':data})   \n",
        "\n",
        "  url = \"https://i.ibb.co/rtq6Hkk/peron-final-retocada.jpg\"\n",
        "  response = requests.get(url)\n",
        "  clarin_mask = Image.open(BytesIO(response.content))\n",
        "  stopwords = set(STOPWORDS)\n",
        "  for word in outliers:\n",
        "    stopwords.add(word)\n",
        "  text = \"\"\n",
        "  k=  len(total)-1\n",
        "  while k>0 and k>(len(total)-495):\n",
        "    tupla= total[k]\n",
        "    stringaux = \" \"+ tupla[0]        \n",
        "    text+= stringaux\n",
        "    k-=1\n",
        "  clarin_mask = np.asanyarray(clarin_mask)\n",
        "\n",
        "\n",
        "  \n",
        "  try:\n",
        "    wc_clarin = WordCloud(min_font_size = 10, background_color=\"white\",color_func= color_func_clarin, max_words=500,mask= clarin_mask,\n",
        "            stopwords=stopwords, contour_width=1, contour_color='white')\n",
        "    wc_clarin.generate(text)\n",
        "    \n",
        "  except Exception as e:\n",
        "    return listadeerrores\n",
        "    \n",
        "    \n",
        "\n",
        "  plt.axis(\"off\")\n",
        "    # Ajustar el tamaño acá, en el figsize.\n",
        "  plt.figure(figsize = (15,8))\n",
        "  plt.imshow(wc_clarin, cmap=plt.cm.gray, interpolation='bilinear')\n",
        "  plt.axis(\"off\")\n",
        "  figfile = BytesIO()\n",
        "  plt.savefig(figfile, format='png')\n",
        "  data = figfile\n",
        "  figfile.seek(0)  # rewind the data\n",
        "  statustw = 'WordCloud Pag12 del dia' \n",
        "  r = api.request('statuses/update_with_media', {'status': statustw}, {'media[]':data})   \n",
        "  return \"hello world\"\n",
        "\n",
        "hello_world(0)\n",
        "\n",
        "\n"
      ],
      "execution_count": null,
      "outputs": [
        {
          "output_type": "stream",
          "text": [
            "Requirement already satisfied: TwitterAPI in /usr/local/lib/python3.7/dist-packages (2.6.9)\n",
            "Requirement already satisfied: requests in /usr/local/lib/python3.7/dist-packages (from TwitterAPI) (2.23.0)\n",
            "Requirement already satisfied: requests-oauthlib in /usr/local/lib/python3.7/dist-packages (from TwitterAPI) (1.3.0)\n",
            "Requirement already satisfied: urllib3!=1.25.0,!=1.25.1,<1.26,>=1.21.1 in /usr/local/lib/python3.7/dist-packages (from requests->TwitterAPI) (1.24.3)\n",
            "Requirement already satisfied: chardet<4,>=3.0.2 in /usr/local/lib/python3.7/dist-packages (from requests->TwitterAPI) (3.0.4)\n",
            "Requirement already satisfied: idna<3,>=2.5 in /usr/local/lib/python3.7/dist-packages (from requests->TwitterAPI) (2.10)\n",
            "Requirement already satisfied: certifi>=2017.4.17 in /usr/local/lib/python3.7/dist-packages (from requests->TwitterAPI) (2020.12.5)\n",
            "Requirement already satisfied: oauthlib>=3.0.0 in /usr/local/lib/python3.7/dist-packages (from requests-oauthlib->TwitterAPI) (3.1.0)\n",
            "Requirement already up-to-date: kaleido in /usr/local/lib/python3.7/dist-packages (0.1.0)\n",
            "\u001b[31mERROR: Could not find a version that satisfies the requirement orca==1.2.1 (from versions: 1.0.0, 1.1.0, 1.2.0, 1.3.0, 1.4.0, 1.5.1, 1.5.3, 1.5.4)\u001b[0m\n",
            "\u001b[31mERROR: No matching distribution found for orca==1.2.1\u001b[0m\n",
            "Requirement already satisfied: plotly==4.7.1 in /usr/local/lib/python3.7/dist-packages (4.7.1)\n",
            "Requirement already satisfied: six in /usr/local/lib/python3.7/dist-packages (from plotly==4.7.1) (1.15.0)\n",
            "Requirement already satisfied: retrying>=1.3.3 in /usr/local/lib/python3.7/dist-packages (from plotly==4.7.1) (1.3.3)\n",
            "/usr/local/bin/orca: Text file busy\n",
            "Reading package lists... Done\n",
            "Building dependency tree       \n",
            "Reading state information... Done\n",
            "libgtk2.0-0 is already the newest version (2.24.32-1ubuntu1).\n",
            "libgconf-2-4 is already the newest version (3.2.6-4ubuntu1).\n",
            "xvfb is already the newest version (2:1.19.6-1ubuntu4.8).\n",
            "0 upgraded, 0 newly installed, 0 to remove and 13 not upgraded.\n",
            "los nodos estan\n"
          ],
          "name": "stdout"
        },
        {
          "output_type": "execute_result",
          "data": {
            "application/vnd.google.colaboratory.intrinsic+json": {
              "type": "string"
            },
            "text/plain": [
              "'hello world'"
            ]
          },
          "metadata": {
            "tags": []
          },
          "execution_count": 29
        },
        {
          "output_type": "display_data",
          "data": {
            "image/png": "[encoded data removed]",
            "text/plain": [
              "<Figure size 432x288 with 1 Axes>"
            ]
          },
          "metadata": {
            "tags": [],
            "needs_background": "light"
          }
        },
        {
          "output_type": "display_data",
          "data": {
            "image/png": "[encoded data removed]",
            "text/plain": [
              "<Figure size 1080x576 with 1 Axes>"
            ]
          },
          "metadata": {
            "tags": [],
            "needs_background": "light"
          }
        }
      ]
    },
    {
      "cell_type": "markdown",
      "metadata": {
        "id": "vefHtVfmneyk"
      },
      "source": [
        "### Por lo pronto, analizar y contrastar diarios, visualizando palabras claves y resultados"
      ]
    },
    {
      "cell_type": "markdown",
      "metadata": {
        "id": "moAZ3gWHnezl"
      },
      "source": [
        "## Lo hacemos sopa, bro"
      ]
    },
    {
      "cell_type": "code",
      "metadata": {
        "id": "CtmQ_RGBnezm"
      },
      "source": [
        "#!pip install bs4\n",
        "from bs4 import BeautifulSoup"
      ],
      "execution_count": null,
      "outputs": []
    },
    {
      "cell_type": "code",
      "metadata": {
        "id": "3hXucwvNnezq"
      },
      "source": [
        "outliers = [\"Palabras\",\"lunes\",\"martes\",\"miércoles\",\"miercoles\",\"jueves\",\"viernes\",\"sábado\",\"sabado,\",\"domingo\",\"dtype\",\"Frecuencia\",'buena', 'cinco', 'tan', 'camino',  'posible', 'local', 'junto' , 'final', 'iba',  'grupo', 'medida',  'explicó', 'dio', 'viernes',  'aún', 'estamos', 'lado', 'nueva', 'agregó', 'respecto', 'ella', 'partir',  'tema', 'zona', 'centro', 'hubo', 'tenemos', 'unos',  'hombre', 'sea', 'llegar', 'dentro', 'información', 'estas',  'veces', 'bajo', 'esos', 'entonces', 'nunca', 'hacia', 'sí', 'quedó', 'hecho', 'misma', 'mil', 'chicos', 'sigue', 'fin', 'decir', 'volver', 'allí', 'nada',  'quienes', 'muchos', 'decisión', 'importante', 'frente', 'estados', 'será', 'relación', 'pasó', 'poder', 'total', 'ir', 'debe', 'pueden',  'sino',  'otras', 'haber', 'través', 'causa', 'mes',  'dice', 'nuevo', 'mejor', 'ver', 'cuerpo', 'estar', 'tenía', 'casi', 'poco', 'primer', 'llegó', 'sólo', 'gente', 'cosas', 'estos', 'mayor', 'primera','algunos', 'mucho', 'forma', 'sido', 'siempre', 'hizo',  'va', 'algo', 'han', 'tienen',  'te', 'aires', 'medio', 'todas', 'él', 'horas', 'tras', 'ellos', 'meses', 'estaba', 'aunque', 'gran', 'antes', 'tener',  'fueron', 'les', 'us', 'menos', 'ante', 'esto', 'otra',  'tanto', 'e', 'pasado', 'solo', 'vida', 'manera', 'semana', 'ni', 'buenos', 'día', 'momento', 'luego', 'tiempo', 'bien', 'otro', 'qué', 'mientras', 'mismo', 'martes', 'otros', 'cómo', 'tres', 'dólares', 'hacer', 'yo', 'contra', 'lunes', 'hace', 'nos', 'están','quien', 'además', 'así', 'lugar', 'uno', 'después', 'durante', 'mi', 'hoy', 'vez', 'año', 'días', 'según', 'país', 'esa', 'cada', 'ahora', 'personas', 'eso', 'puede', 'muy', 'parte', 'dijo', 'era', 'argentina', 'todos', 'ha', 'tiene', 'donde', 'porque', 'ser', 'ese', 'millones', 'todo', 'hasta', 'dos', 'había', 'esta', 'sin', 'son', 'está', 'cuando', 'ya', 'años', 'me', 'hay', 'también', 'entre', 'si', 'sobre', 'sus', 'desde', 'o', 'le', 'este', 'fue', 'pero', 'como', 'más', 'lo', 'su', 'al', 'es', 'no', 'para', 'una', 'con', 'las', 'por', 'un', 'quot', 'se', 'del', 'los', 'a', 'y', 'en', 'que','el','la','de']"
      ],
      "execution_count": null,
      "outputs": []
    },
    {
      "cell_type": "markdown",
      "metadata": {
        "id": "YIt7Oe6hoeJk"
      },
      "source": [
        "Entra a una seccion y devuelve los links de los articulos de esa seccion"
      ]
    },
    {
      "cell_type": "code",
      "metadata": {
        "id": "gRVlDhxzxExD"
      },
      "source": [
        "def seccionLinks(url):\n",
        "  linkanterior = \"\"\n",
        "  linksadevolver = []\n",
        "  req = requests.get(url)\n",
        "  soup = BeautifulSoup(req.text, \"lxml\")\n",
        "  lista = soup.find_all('item')\n",
        "  indice =0\n",
        "  while indice<len(lista):\n",
        "    link = lista[indice].get_text()\n",
        "    h = 1\n",
        "    linkver = \"\"\n",
        "    while h<len(link):\n",
        "      if link[h:h+5]== \"https\":\n",
        "        linkver=link[0:h]\n",
        "        h = len(link)       \n",
        "      h+=1\n",
        "    if linkver != None:\n",
        "      if linkver!=linkanterior:\n",
        "        linkanterior=linkver\n",
        "        linksadevolver.append(linkver)\n",
        "    indice+=1\n",
        "  return linksadevolver\n"
      ],
      "execution_count": null,
      "outputs": []
    },
    {
      "cell_type": "markdown",
      "metadata": {
        "id": "zxsojZ8Nonvl"
      },
      "source": [
        "Devuelve las palabras de un articulo"
      ]
    },
    {
      "cell_type": "code",
      "metadata": {
        "id": "ZlBXVMp2Isy6"
      },
      "source": [
        "def palabrasArticulo(url):\n",
        "  palabras = []\n",
        "  req = requests.get(url)\n",
        "  soup = BeautifulSoup(req.text, \"lxml\")\n",
        "  #juan = json.loads(soup.find('script',type=\"application/ld+json\").text)\n",
        "  juan = soup.find_all('p')\n",
        "  for items in juan:\n",
        "    if items.get_text() != 'República Argentina | Todos los derechos reservados | Política de privacidad | Términos y Condiciones© 2000-2020 www.pagina12.com.ar':\n",
        "      palabras+=separaPalabras(items.get_text())\n",
        "  #palabras+=(separaPalabras(juan[\"alternativeHeadline\"]))\n",
        "  #palabras+=(separaPalabras(juan[\"articleBody\"]))\n",
        "  return palabras"
      ],
      "execution_count": null,
      "outputs": []
    },
    {
      "cell_type": "markdown",
      "metadata": {
        "id": "mMWr7Q90otvo"
      },
      "source": [
        "Separa las frases en palabras"
      ]
    },
    {
      "cell_type": "code",
      "metadata": {
        "id": "rrTFdlsFoPEf"
      },
      "source": [
        "def separaPalabras(frase):\n",
        "  palabras=[]\n",
        "  i =0\n",
        "  while i<len(frase):\n",
        "    if frase[i].isalpha():\n",
        "      h=i+1\n",
        "      while h<len(frase):\n",
        "        if h==len(frase)-1:\n",
        "          if frase[h].isalpha():\n",
        "            if frase[i:h+1].lower() not in outliers:\n",
        "              palabras.append(frase[i:h+1].lower())\n",
        "          else :\n",
        "            if frase[i:h].lower() not in outliers:\n",
        "              palabras.append(frase[i:h].lower())\n",
        "          i = len(frase)\n",
        "        elif frase[h].isalpha()!= True:\n",
        "          if frase[i:h].lower() not in outliers:\n",
        "            palabras.append(frase[i:h].lower())\n",
        "          i = h         \n",
        "          h = len(frase)\n",
        "        h+=1\n",
        "    i+=1\n",
        "  return palabras\n"
      ],
      "execution_count": null,
      "outputs": []
    },
    {
      "cell_type": "markdown",
      "metadata": {
        "id": "MghlewpW3a8K"
      },
      "source": [
        "Retorna cuantas veces aparece cada palabra "
      ]
    },
    {
      "cell_type": "code",
      "metadata": {
        "id": "YfmmzLB33Vp6"
      },
      "source": [
        "def palabrasMaspalabrasMenos(palabras):\n",
        "  tuplaPalabras = []\n",
        "  i = 0\n",
        "  while i<len(palabras):\n",
        "    palabreta = palabras[i]\n",
        "    loEncontro = False\n",
        "    h = 0\n",
        "    while h<len(tuplaPalabras):\n",
        "      if palabreta==tuplaPalabras[h][0]:\n",
        "        loEncontro = True\n",
        "        nuevatupla = (tuplaPalabras[h][0],tuplaPalabras[h][1]+1)\n",
        "        tuplaPalabras[h]= nuevatupla\n",
        "        h = len(tuplaPalabras)\n",
        "      h+=1\n",
        "    if loEncontro == False:\n",
        "      tupla = (palabreta,1)\n",
        "      tuplaPalabras.append(tupla)\n",
        "    i+=1\n",
        "  return sorted(tuplaPalabras, key=itemgetter(1))"
      ],
      "execution_count": null,
      "outputs": []
    },
    {
      "cell_type": "code",
      "metadata": {
        "id": "141j--0IDjLB"
      },
      "source": [
        "secciones = {\"el-pais\":[],\"economia\":[],\"sociedad\":[],\"deportes\":[],\"cultura-y-espectaculos\":[],\"el-mundo\":[]}"
      ],
      "execution_count": null,
      "outputs": []
    },
    {
      "cell_type": "markdown",
      "metadata": {
        "id": "gHkd6-KKignT"
      },
      "source": [
        "Usa las funciones definidas anteriormente para analizar la pagina de clarin y agregarle a cada seccion una lista de palabras y la cant de veces que aparece"
      ]
    },
    {
      "cell_type": "code",
      "metadata": {
        "id": "QmpaIt3mxEvN"
      },
      "source": [
        "#tarda unos 5 mins en correr porque agarra todo pagina12\n",
        "for keys in secciones:\n",
        "  articulos = seccionLinks(\"https://www.pagina12.com.ar/rss/secciones/\"+keys+\"/notas\")\n",
        "  for articulo in articulos:\n",
        "    try:\n",
        "      secciones[keys] += palabrasArticulo(articulo)   \n",
        "    except:\n",
        "      print(len(articulo))\n",
        "for keys in secciones:\n",
        "  secciones[keys] = palabrasMaspalabrasMenos(secciones[keys])"
      ],
      "execution_count": null,
      "outputs": []
    },
    {
      "cell_type": "markdown",
      "metadata": {
        "id": "JeCSGqyFpQWI"
      },
      "source": [
        "Cosas para Sankey:"
      ]
    },
    {
      "cell_type": "code",
      "metadata": {
        "id": "Hjw2AyvspTku"
      },
      "source": [
        "sources = []\n",
        "targets = []\n",
        "values = []\n",
        "labels = []\n",
        "labels.append(\"Pagina12\")\n",
        "for keys in secciones:\n",
        "  labels.append(keys)\n",
        "  sources.append(0)\n",
        "  targets.append(len(labels)-1)\n",
        "  cantPalabras = 0\n",
        "  #print(str(len(secciones[keys])))\n",
        "  for palabras in secciones[keys]:\n",
        "    cantPalabras+= palabras[1]\n",
        "  values.append(cantPalabras)\n",
        "j=1\n",
        "for keys in secciones: \n",
        "  if len(secciones[keys])>=10:\n",
        "    i = 0\n",
        "    while i<5:\n",
        "      sources.append(j)\n",
        "      joan = secciones[keys] \n",
        "      rudo = joan[len(secciones[keys])-1-i]\n",
        "      labels.append(rudo[0])\n",
        "      targets.append(len(labels)-1)\n",
        "      values.append(rudo[1])\n",
        "      i+=1\n",
        "  else:\n",
        "    print(keys)\n",
        "  j+=1"
      ],
      "execution_count": null,
      "outputs": []
    },
    {
      "cell_type": "code",
      "metadata": {
        "id": "0OJoWTaBpPfn",
        "colab": {
          "base_uri": "https://localhost:8080/",
          "height": 542
        },
        "outputId": "878903e0-db32-4f02-b0a1-3c1d8a81e812"
      },
      "source": [
        "import plotly.graph_objects as go\n",
        "import urllib, json\n",
        "\n",
        "url = 'https://raw.githubusercontent.com/plotly/plotly.js/master/test/image/mocks/sankey_energy.json'\n",
        "response = urllib.request.urlopen(url)\n",
        "data = json.loads(response.read())\n",
        "\n",
        "# override gray link colors with 'source' colors\n",
        "opacity = 0.4\n",
        "# change 'magenta' to its 'rgba' value to add opacity\n",
        "\n",
        "data['data'][0]['node']['color'] = ['rgba(255,0,255, 0.8)' if color == \"magenta\" else color for color in data['data'][0]['node']['color']]\n",
        "data['data'][0]['link']['color'] = [data['data'][0]['node']['color'][src].replace(\"0.8\", str(opacity))\n",
        "                              for src in data['data'][0]['link']['source']]\n",
        "\n",
        "fig = go.Figure(data=[go.Sankey(\n",
        "    valueformat = \".0f\",\n",
        "    valuesuffix = \"TWh\",\n",
        "    # Define nodes\n",
        "    node = dict(\n",
        "      pad = 15,\n",
        "      thickness = 15,\n",
        "      line = dict(color = \"black\", width = 0.5),\n",
        "      label =  labels,\n",
        "      color =  data['data'][0]['node']['color']\n",
        "    ),\n",
        "    # Add links\n",
        "\n",
        "    link = dict(\n",
        "      source = sources,\n",
        "      target =  targets,\n",
        "      value =  values,\n",
        "      label =  data['data'][0]['link']['label'],\n",
        "      color =  data['data'][0]['link']['color']\n",
        "))])\n",
        "\n",
        "fig.update_layout(title_text=\"Palabras más utilizadas por sección en Clarín\",\n",
        "                  font_size=10)\n",
        "fig.show()"
      ],
      "execution_count": null,
      "outputs": [
        {
          "output_type": "display_data",
          "data": {
            "text/html": [
              "<html>\n",
              "<head><meta charset=\"utf-8\" /></head>\n",
              "<body>\n",
              "    <div>\n",
              "            <script src=\"https://cdnjs.cloudflare.com/ajax/libs/mathjax/2.7.5/MathJax.js?config=TeX-AMS-MML_SVG\"></script><script type=\"text/javascript\">if (window.MathJax) {MathJax.Hub.Config({SVG: {font: \"STIX-Web\"}});}</script>\n",
              "                <script type=\"text/javascript\">window.PlotlyConfig = {MathJaxConfig: 'local'};</script>\n",
              "        <script src=\"https://cdn.plot.ly/plotly-latest.min.js\"></script>    \n",
              "            <div id=\"fca5feee-ea40-47c4-9a22-2e60d09d848c\" class=\"plotly-graph-div\" style=\"height:525px; width:100%;\"></div>\n",
              "            <script type=\"text/javascript\">\n",
              "                \n",
              "                    window.PLOTLYENV=window.PLOTLYENV || {};\n",
              "                    \n",
              "                if (document.getElementById(\"fca5feee-ea40-47c4-9a22-2e60d09d848c\")) {\n",
              "                    Plotly.newPlot(\n",
              "                        'fca5feee-ea40-47c4-9a22-2e60d09d848c',\n",
              "                        [{\"link\": {\"color\": [\"rgba(31, 119, 180, 0.4)\", \"rgba(255, 127, 14, 0.4)\", \"rgba(255, 127, 14, 0.4)\", \"rgba(255, 127, 14, 0.4)\", \"rgba(255, 127, 14, 0.4)\", \"rgba(227, 119, 194, 0.4)\", \"rgba(127, 127, 127, 0.4)\", \"rgba(188, 189, 34, 0.4)\", \"rgba(31, 119, 180, 0.4)\", \"rgba(23, 190, 207, 0.4)\", \"rgba(255, 127, 14, 0.4)\", \"rgba(255, 127, 14, 0.4)\", \"rgba(255, 127, 14, 0.4)\", \"rgba(140, 86, 75, 0.4)\", \"rgba(140, 86, 75, 0.4)\", \"rgba(140, 86, 75, 0.4)\", \"rgba(140, 86, 75, 0.4)\", \"rgba(140, 86, 75, 0.4)\", \"rgba(140, 86, 75, 0.4)\", \"rgba(140, 86, 75, 0.4)\", \"rgba(140, 86, 75, 0.4)\", \"rgba(140, 86, 75, 0.4)\", \"rgba(140, 86, 75, 0.4)\", \"rgba(140, 86, 75, 0.4)\", \"rgba(214, 39, 40, 0.4)\", \"rgba(140, 86, 75, 0.4)\", \"rgba(140, 86, 75, 0.4)\", \"rgba(140, 86, 75, 0.4)\", \"rgba(140, 86, 75, 0.4)\", \"rgba(140, 86, 75, 0.4)\", \"rgba(140, 86, 75, 0.4)\", \"rgba(127, 127, 127, 0.4)\", \"rgba(127, 127, 127, 0.4)\", \"rgba(127, 127, 127, 0.4)\", \"rgba(188, 189, 34, 0.4)\", \"rgba(23, 190, 207, 0.4)\", \"rgba(44, 160, 44, 0.4)\", \"rgba(44, 160, 44, 0.4)\", \"rgba(44, 160, 44, 0.4)\", \"rgba(44, 160, 44, 0.4)\", \"rgba(44, 160, 44, 0.4)\", \"rgba(44, 160, 44, 0.4)\", \"rgba(44, 160, 44, 0.4)\", \"rgba(44, 160, 44, 0.4)\", \"rgba(148, 103, 189, 0.4)\", \"rgba(148, 103, 189, 0.4)\", \"rgba(255,0,255, 0.4)\", \"rgba(255,0,255, 0.4)\", \"rgba(227, 119, 194, 0.4)\", \"rgba(188, 189, 34, 0.4)\", \"rgba(127, 127, 127, 0.4)\", \"rgba(23, 190, 207, 0.4)\", \"rgba(23, 190, 207, 0.4)\", \"rgba(31, 119, 180, 0.4)\", \"rgba(31, 119, 180, 0.4)\", \"rgba(255, 127, 14, 0.4)\", \"rgba(44, 160, 44, 0.4)\", \"rgba(214, 39, 40, 0.4)\", \"rgba(214, 39, 40, 0.4)\", \"rgba(148, 103, 189, 0.4)\", \"rgba(148, 103, 189, 0.4)\", \"rgba(148, 103, 189, 0.4)\", \"rgba(227, 119, 194, 0.4)\", \"rgba(227, 119, 194, 0.4)\", \"rgba(227, 119, 194, 0.4)\", \"rgba(148, 103, 189, 0.4)\", \"rgba(140, 86, 75, 0.4)\", \"rgba(227, 119, 194, 0.4)\", \"rgba(127, 127, 127, 0.4)\", \"rgba(255,0,255, 0.4)\", \"rgba(255,0,255, 0.4)\"], \"label\": [\"stream 1\", \"\", \"\", \"\", \"stream 1\", \"\", \"\", \"\", \"\", \"\", \"\", \"\", \"\", \"\", \"\", \"\", \"\", \"\", \"\", \"\", \"\", \"\", \"\", \"\", \"\", \"\", \"\", \"\", \"\", \"\", \"stream 1\", \"\", \"\", \"\", \"\", \"\", \"\", \"\", \"\", \"\", \"\", \"\", \"\", \"\", \"\", \"\", \"Old generation plant (made-up)\", \"New generation plant (made-up)\", \"\", \"\", \"\", \"\", \"\", \"\", \"\", \"\", \"\", \"\", \"\", \"\", \"\", \"\", \"\", \"\", \"\", \"\", \"\", \"\", \"\", \"\", \"\"], \"source\": [0, 0, 0, 0, 0, 0, 1, 1, 1, 1, 1, 2, 2, 2, 2, 2, 3, 3, 3, 3, 3, 4, 4, 4, 4, 4, 5, 5, 5, 5, 5, 6, 6, 6, 6, 6], \"target\": [1, 2, 3, 4, 5, 6, 7, 8, 9, 10, 11, 12, 13, 14, 15, 16, 17, 18, 19, 20, 21, 22, 23, 24, 25, 26, 27, 28, 29, 30, 31, 32, 33, 34, 35, 36], \"value\": [2567, 2106, 1906, 2068, 1587, 2947, 17, 15, 14, 14, 13, 62, 51, 35, 18, 16, 17, 12, 11, 11, 11, 16, 12, 11, 11, 11, 25, 11, 11, 10, 8, 27, 17, 15, 15, 14]}, \"node\": {\"color\": [\"rgba(31, 119, 180, 0.8)\", \"rgba(255, 127, 14, 0.8)\", \"rgba(44, 160, 44, 0.8)\", \"rgba(214, 39, 40, 0.8)\", \"rgba(148, 103, 189, 0.8)\", \"rgba(140, 86, 75, 0.8)\", \"rgba(227, 119, 194, 0.8)\", \"rgba(127, 127, 127, 0.8)\", \"rgba(188, 189, 34, 0.8)\", \"rgba(23, 190, 207, 0.8)\", \"rgba(31, 119, 180, 0.8)\", \"rgba(255, 127, 14, 0.8)\", \"rgba(44, 160, 44, 0.8)\", \"rgba(214, 39, 40, 0.8)\", \"rgba(148, 103, 189, 0.8)\", \"rgba(140, 86, 75, 0.8)\", \"rgba(227, 119, 194, 0.8)\", \"rgba(127, 127, 127, 0.8)\", \"rgba(188, 189, 34, 0.8)\", \"rgba(23, 190, 207, 0.8)\", \"rgba(31, 119, 180, 0.8)\", \"rgba(255, 127, 14, 0.8)\", \"rgba(44, 160, 44, 0.8)\", \"rgba(214, 39, 40, 0.8)\", \"rgba(148, 103, 189, 0.8)\", \"rgba(140, 86, 75, 0.8)\", \"rgba(227, 119, 194, 0.8)\", \"rgba(127, 127, 127, 0.8)\", \"rgba(188, 189, 34, 0.8)\", \"rgba(23, 190, 207, 0.8)\", \"rgba(31, 119, 180, 0.8)\", \"rgba(255, 127, 14, 0.8)\", \"rgba(44, 160, 44, 0.8)\", \"rgba(214, 39, 40, 0.8)\", \"rgba(148, 103, 189, 0.8)\", \"rgba(255,0,255, 0.8)\", \"rgba(227, 119, 194, 0.8)\", \"rgba(127, 127, 127, 0.8)\", \"rgba(188, 189, 34, 0.8)\", \"rgba(23, 190, 207, 0.8)\", \"rgba(31, 119, 180, 0.8)\", \"rgba(255, 127, 14, 0.8)\", \"rgba(44, 160, 44, 0.8)\", \"rgba(214, 39, 40, 0.8)\", \"rgba(148, 103, 189, 0.8)\", \"rgba(140, 86, 75, 0.8)\", \"rgba(227, 119, 194, 0.8)\", \"rgba(127, 127, 127, 0.8)\"], \"label\": [\"Pagina12\", \"el-pais\", \"economia\", \"sociedad\", \"deportes\", \"cultura-y-espectaculos\", \"el-mundo\", \"nacional\", \"derechos\", \"vacunas\", \"vacuna\", \"salud\", \"terminados\", \"febrerodni\", \"ciento\", \"pol\\u00edtica\", \"febrero\", \"derechos\", \"condiciones\", \"polic\\u00eda\", \"ar\", \"com\", \"equipo\", \"condiciones\", \"\\u00ba\", \"ar\", \"com\", \"teatro\", \"artistas\", \"fiba\", \"festival\", \"teatral\", \"gobierno\", \"ministro\", \"pol\\u00edtica\", \"derechos\", \"estado\"], \"line\": {\"color\": \"black\", \"width\": 0.5}, \"pad\": 15, \"thickness\": 15}, \"type\": \"sankey\", \"valueformat\": \".0f\", \"valuesuffix\": \"TWh\"}],\n",
              "                        {\"font\": {\"size\": 10}, \"template\": {\"data\": {\"bar\": [{\"error_x\": {\"color\": \"#2a3f5f\"}, \"error_y\": {\"color\": \"#2a3f5f\"}, \"marker\": {\"line\": {\"color\": \"#E5ECF6\", \"width\": 0.5}}, \"type\": \"bar\"}], \"barpolar\": [{\"marker\": {\"line\": {\"color\": \"#E5ECF6\", \"width\": 0.5}}, \"type\": \"barpolar\"}], \"carpet\": [{\"aaxis\": {\"endlinecolor\": \"#2a3f5f\", \"gridcolor\": \"white\", \"linecolor\": \"white\", \"minorgridcolor\": \"white\", \"startlinecolor\": \"#2a3f5f\"}, \"baxis\": {\"endlinecolor\": \"#2a3f5f\", \"gridcolor\": \"white\", \"linecolor\": \"white\", \"minorgridcolor\": \"white\", \"startlinecolor\": \"#2a3f5f\"}, \"type\": \"carpet\"}], \"choropleth\": [{\"colorbar\": {\"outlinewidth\": 0, \"ticks\": \"\"}, \"type\": \"choropleth\"}], \"contour\": [{\"colorbar\": {\"outlinewidth\": 0, \"ticks\": \"\"}, \"colorscale\": [[0.0, \"#0d0887\"], [0.1111111111111111, \"#46039f\"], [0.2222222222222222, \"#7201a8\"], [0.3333333333333333, \"#9c179e\"], [0.4444444444444444, \"#bd3786\"], [0.5555555555555556, \"#d8576b\"], [0.6666666666666666, \"#ed7953\"], [0.7777777777777778, \"#fb9f3a\"], [0.8888888888888888, \"#fdca26\"], [1.0, \"#f0f921\"]], \"type\": \"contour\"}], \"contourcarpet\": [{\"colorbar\": {\"outlinewidth\": 0, \"ticks\": \"\"}, \"type\": \"contourcarpet\"}], \"heatmap\": [{\"colorbar\": {\"outlinewidth\": 0, \"ticks\": \"\"}, \"colorscale\": [[0.0, \"#0d0887\"], [0.1111111111111111, \"#46039f\"], [0.2222222222222222, \"#7201a8\"], [0.3333333333333333, \"#9c179e\"], [0.4444444444444444, \"#bd3786\"], [0.5555555555555556, \"#d8576b\"], [0.6666666666666666, \"#ed7953\"], [0.7777777777777778, \"#fb9f3a\"], [0.8888888888888888, \"#fdca26\"], [1.0, \"#f0f921\"]], \"type\": \"heatmap\"}], \"heatmapgl\": [{\"colorbar\": {\"outlinewidth\": 0, \"ticks\": \"\"}, \"colorscale\": [[0.0, \"#0d0887\"], [0.1111111111111111, \"#46039f\"], [0.2222222222222222, \"#7201a8\"], [0.3333333333333333, \"#9c179e\"], [0.4444444444444444, \"#bd3786\"], [0.5555555555555556, \"#d8576b\"], [0.6666666666666666, \"#ed7953\"], [0.7777777777777778, \"#fb9f3a\"], [0.8888888888888888, \"#fdca26\"], [1.0, \"#f0f921\"]], \"type\": \"heatmapgl\"}], \"histogram\": [{\"marker\": {\"colorbar\": {\"outlinewidth\": 0, \"ticks\": \"\"}}, \"type\": \"histogram\"}], \"histogram2d\": [{\"colorbar\": {\"outlinewidth\": 0, \"ticks\": \"\"}, \"colorscale\": [[0.0, \"#0d0887\"], [0.1111111111111111, \"#46039f\"], [0.2222222222222222, \"#7201a8\"], [0.3333333333333333, \"#9c179e\"], [0.4444444444444444, \"#bd3786\"], [0.5555555555555556, \"#d8576b\"], [0.6666666666666666, \"#ed7953\"], [0.7777777777777778, \"#fb9f3a\"], [0.8888888888888888, \"#fdca26\"], [1.0, \"#f0f921\"]], \"type\": \"histogram2d\"}], \"histogram2dcontour\": [{\"colorbar\": {\"outlinewidth\": 0, \"ticks\": \"\"}, \"colorscale\": [[0.0, \"#0d0887\"], [0.1111111111111111, \"#46039f\"], [0.2222222222222222, \"#7201a8\"], [0.3333333333333333, \"#9c179e\"], [0.4444444444444444, \"#bd3786\"], [0.5555555555555556, \"#d8576b\"], [0.6666666666666666, \"#ed7953\"], [0.7777777777777778, \"#fb9f3a\"], [0.8888888888888888, \"#fdca26\"], [1.0, \"#f0f921\"]], \"type\": \"histogram2dcontour\"}], \"mesh3d\": [{\"colorbar\": {\"outlinewidth\": 0, \"ticks\": \"\"}, \"type\": \"mesh3d\"}], \"parcoords\": [{\"line\": {\"colorbar\": {\"outlinewidth\": 0, \"ticks\": \"\"}}, \"type\": \"parcoords\"}], \"pie\": [{\"automargin\": true, \"type\": \"pie\"}], \"scatter\": [{\"marker\": {\"colorbar\": {\"outlinewidth\": 0, \"ticks\": \"\"}}, \"type\": \"scatter\"}], \"scatter3d\": [{\"line\": {\"colorbar\": {\"outlinewidth\": 0, \"ticks\": \"\"}}, \"marker\": {\"colorbar\": {\"outlinewidth\": 0, \"ticks\": \"\"}}, \"type\": \"scatter3d\"}], \"scattercarpet\": [{\"marker\": {\"colorbar\": {\"outlinewidth\": 0, \"ticks\": \"\"}}, \"type\": \"scattercarpet\"}], \"scattergeo\": [{\"marker\": {\"colorbar\": {\"outlinewidth\": 0, \"ticks\": \"\"}}, \"type\": \"scattergeo\"}], \"scattergl\": [{\"marker\": {\"colorbar\": {\"outlinewidth\": 0, \"ticks\": \"\"}}, \"type\": \"scattergl\"}], \"scattermapbox\": [{\"marker\": {\"colorbar\": {\"outlinewidth\": 0, \"ticks\": \"\"}}, \"type\": \"scattermapbox\"}], \"scatterpolar\": [{\"marker\": {\"colorbar\": {\"outlinewidth\": 0, \"ticks\": \"\"}}, \"type\": \"scatterpolar\"}], \"scatterpolargl\": [{\"marker\": {\"colorbar\": {\"outlinewidth\": 0, \"ticks\": \"\"}}, \"type\": \"scatterpolargl\"}], \"scatterternary\": [{\"marker\": {\"colorbar\": {\"outlinewidth\": 0, \"ticks\": \"\"}}, \"type\": \"scatterternary\"}], \"surface\": [{\"colorbar\": {\"outlinewidth\": 0, \"ticks\": \"\"}, \"colorscale\": [[0.0, \"#0d0887\"], [0.1111111111111111, \"#46039f\"], [0.2222222222222222, \"#7201a8\"], [0.3333333333333333, \"#9c179e\"], [0.4444444444444444, \"#bd3786\"], [0.5555555555555556, \"#d8576b\"], [0.6666666666666666, \"#ed7953\"], [0.7777777777777778, \"#fb9f3a\"], [0.8888888888888888, \"#fdca26\"], [1.0, \"#f0f921\"]], \"type\": \"surface\"}], \"table\": [{\"cells\": {\"fill\": {\"color\": \"#EBF0F8\"}, \"line\": {\"color\": \"white\"}}, \"header\": {\"fill\": {\"color\": \"#C8D4E3\"}, \"line\": {\"color\": \"white\"}}, \"type\": \"table\"}]}, \"layout\": {\"annotationdefaults\": {\"arrowcolor\": \"#2a3f5f\", \"arrowhead\": 0, \"arrowwidth\": 1}, \"coloraxis\": {\"colorbar\": {\"outlinewidth\": 0, \"ticks\": \"\"}}, \"colorscale\": {\"diverging\": [[0, \"#8e0152\"], [0.1, \"#c51b7d\"], [0.2, \"#de77ae\"], [0.3, \"#f1b6da\"], [0.4, \"#fde0ef\"], [0.5, \"#f7f7f7\"], [0.6, \"#e6f5d0\"], [0.7, \"#b8e186\"], [0.8, \"#7fbc41\"], [0.9, \"#4d9221\"], [1, \"#276419\"]], \"sequential\": [[0.0, \"#0d0887\"], [0.1111111111111111, \"#46039f\"], [0.2222222222222222, \"#7201a8\"], [0.3333333333333333, \"#9c179e\"], [0.4444444444444444, \"#bd3786\"], [0.5555555555555556, \"#d8576b\"], [0.6666666666666666, \"#ed7953\"], [0.7777777777777778, \"#fb9f3a\"], [0.8888888888888888, \"#fdca26\"], [1.0, \"#f0f921\"]], \"sequentialminus\": [[0.0, \"#0d0887\"], [0.1111111111111111, \"#46039f\"], [0.2222222222222222, \"#7201a8\"], [0.3333333333333333, \"#9c179e\"], [0.4444444444444444, \"#bd3786\"], [0.5555555555555556, \"#d8576b\"], [0.6666666666666666, \"#ed7953\"], [0.7777777777777778, \"#fb9f3a\"], [0.8888888888888888, \"#fdca26\"], [1.0, \"#f0f921\"]]}, \"colorway\": [\"#636efa\", \"#EF553B\", \"#00cc96\", \"#ab63fa\", \"#FFA15A\", \"#19d3f3\", \"#FF6692\", \"#B6E880\", \"#FF97FF\", \"#FECB52\"], \"font\": {\"color\": \"#2a3f5f\"}, \"geo\": {\"bgcolor\": \"white\", \"lakecolor\": \"white\", \"landcolor\": \"#E5ECF6\", \"showlakes\": true, \"showland\": true, \"subunitcolor\": \"white\"}, \"hoverlabel\": {\"align\": \"left\"}, \"hovermode\": \"closest\", \"mapbox\": {\"style\": \"light\"}, \"paper_bgcolor\": \"white\", \"plot_bgcolor\": \"#E5ECF6\", \"polar\": {\"angularaxis\": {\"gridcolor\": \"white\", \"linecolor\": \"white\", \"ticks\": \"\"}, \"bgcolor\": \"#E5ECF6\", \"radialaxis\": {\"gridcolor\": \"white\", \"linecolor\": \"white\", \"ticks\": \"\"}}, \"scene\": {\"xaxis\": {\"backgroundcolor\": \"#E5ECF6\", \"gridcolor\": \"white\", \"gridwidth\": 2, \"linecolor\": \"white\", \"showbackground\": true, \"ticks\": \"\", \"zerolinecolor\": \"white\"}, \"yaxis\": {\"backgroundcolor\": \"#E5ECF6\", \"gridcolor\": \"white\", \"gridwidth\": 2, \"linecolor\": \"white\", \"showbackground\": true, \"ticks\": \"\", \"zerolinecolor\": \"white\"}, \"zaxis\": {\"backgroundcolor\": \"#E5ECF6\", \"gridcolor\": \"white\", \"gridwidth\": 2, \"linecolor\": \"white\", \"showbackground\": true, \"ticks\": \"\", \"zerolinecolor\": \"white\"}}, \"shapedefaults\": {\"line\": {\"color\": \"#2a3f5f\"}}, \"ternary\": {\"aaxis\": {\"gridcolor\": \"white\", \"linecolor\": \"white\", \"ticks\": \"\"}, \"baxis\": {\"gridcolor\": \"white\", \"linecolor\": \"white\", \"ticks\": \"\"}, \"bgcolor\": \"#E5ECF6\", \"caxis\": {\"gridcolor\": \"white\", \"linecolor\": \"white\", \"ticks\": \"\"}}, \"title\": {\"x\": 0.05}, \"xaxis\": {\"automargin\": true, \"gridcolor\": \"white\", \"linecolor\": \"white\", \"ticks\": \"\", \"title\": {\"standoff\": 15}, \"zerolinecolor\": \"white\", \"zerolinewidth\": 2}, \"yaxis\": {\"automargin\": true, \"gridcolor\": \"white\", \"linecolor\": \"white\", \"ticks\": \"\", \"title\": {\"standoff\": 15}, \"zerolinecolor\": \"white\", \"zerolinewidth\": 2}}}, \"title\": {\"text\": \"Palabras m\\u00e1s utilizadas por secci\\u00f3n en Clar\\u00edn\"}},\n",
              "                        {\"responsive\": true}\n",
              "                    ).then(function(){\n",
              "                            \n",
              "var gd = document.getElementById('fca5feee-ea40-47c4-9a22-2e60d09d848c');\n",
              "var x = new MutationObserver(function (mutations, observer) {{\n",
              "        var display = window.getComputedStyle(gd).display;\n",
              "        if (!display || display === 'none') {{\n",
              "            console.log([gd, 'removed!']);\n",
              "            Plotly.purge(gd);\n",
              "            observer.disconnect();\n",
              "        }}\n",
              "}});\n",
              "\n",
              "// Listen for the removal of the full notebook cells\n",
              "var notebookContainer = gd.closest('#notebook-container');\n",
              "if (notebookContainer) {{\n",
              "    x.observe(notebookContainer, {childList: true});\n",
              "}}\n",
              "\n",
              "// Listen for the clearing of the current output cell\n",
              "var outputEl = gd.closest('.output');\n",
              "if (outputEl) {{\n",
              "    x.observe(outputEl, {childList: true});\n",
              "}}\n",
              "\n",
              "                        })\n",
              "                };\n",
              "                \n",
              "            </script>\n",
              "        </div>\n",
              "</body>\n",
              "</html>"
            ]
          },
          "metadata": {
            "tags": []
          }
        }
      ]
    },
    {
      "cell_type": "markdown",
      "metadata": {
        "id": "MAOX-2JQE5Ma"
      },
      "source": [
        "### PRO\n"
      ]
    },
    {
      "cell_type": "code",
      "metadata": {
        "id": "LD-CDWbDlua2",
        "colab": {
          "base_uri": "https://localhost:8080/",
          "height": 395
        },
        "outputId": "12051051-95c8-438f-d0da-b431bb4ec567"
      },
      "source": [
        "import re\n",
        "#patron_re = ([^\\W_]+[^\\s,]*)\n",
        "#patron = re.compile(patron_re)\n",
        "\n",
        "articulos_a = pd.DataFrame(articulos, columns=[\"Articulos\"])\n",
        "articulos_a = articulos_a.astype(str)\n",
        "#articulos_a.set_index().A.str.split('/', expand=True).stack().reset_index()\n",
        "articulos_a.Articulos = articulos_a.Articulos.replace(to_replace ='/', value = ' ', regex = True) \n",
        "articulos_a.Articulos = articulos_a.Articulos.replace(to_replace ='-', value = ' ', regex = True) \n",
        "articulos_a = articulos_a.Articulos.str.split((\" \"), expand = True) \n",
        "#articulos_a = articulos_a.Articulos.str.split((\"-\"), expand = True)  \n",
        "#articulos_a_split = articulos_a.Articulos.str.split((\"(\\w+)\"), expand= True)\n",
        "#articulos_a_split\n",
        "\n",
        "\n",
        "articulos_a = articulos_a.replace('\\d+', '')\n",
        "articulos_a\n",
        "\n",
        "#articulos_sin_categoria = articulos_a.iloc[:,2:].astype(str)\n",
        "#articulos_sin_categoria\n",
        "#articulos_sin_categoría.apply(lambda x: re.search(r'^[^_]*', x).group(1))\n"
      ],
      "execution_count": null,
      "outputs": [
        {
          "output_type": "execute_result",
          "data": {
            "text/html": [
              "<div>\n",
              "<style scoped>\n",
              "    .dataframe tbody tr th:only-of-type {\n",
              "        vertical-align: middle;\n",
              "    }\n",
              "\n",
              "    .dataframe tbody tr th {\n",
              "        vertical-align: top;\n",
              "    }\n",
              "\n",
              "    .dataframe thead th {\n",
              "        text-align: right;\n",
              "    }\n",
              "</style>\n",
              "<table border=\"1\" class=\"dataframe\">\n",
              "  <thead>\n",
              "    <tr style=\"text-align: right;\">\n",
              "      <th></th>\n",
              "      <th>0</th>\n",
              "      <th>1</th>\n",
              "      <th>2</th>\n",
              "      <th>3</th>\n",
              "      <th>4</th>\n",
              "      <th>5</th>\n",
              "      <th>6</th>\n",
              "      <th>7</th>\n",
              "      <th>8</th>\n",
              "      <th>9</th>\n",
              "      <th>10</th>\n",
              "      <th>11</th>\n",
              "      <th>12</th>\n",
              "      <th>13</th>\n",
              "      <th>14</th>\n",
              "      <th>15</th>\n",
              "    </tr>\n",
              "  </thead>\n",
              "  <tbody>\n",
              "    <tr>\n",
              "      <th>0</th>\n",
              "      <td>https:</td>\n",
              "      <td></td>\n",
              "      <td>www.pagina12.com.ar</td>\n",
              "      <td>326276</td>\n",
              "      <td>mexico</td>\n",
              "      <td>la</td>\n",
              "      <td>mayoria</td>\n",
              "      <td>de</td>\n",
              "      <td>los</td>\n",
              "      <td>nuevos</td>\n",
              "      <td>contagios</td>\n",
              "      <td>son</td>\n",
              "      <td>por</td>\n",
              "      <td>una</td>\n",
              "      <td>mutaci</td>\n",
              "      <td>None</td>\n",
              "    </tr>\n",
              "    <tr>\n",
              "      <th>1</th>\n",
              "      <td>https:</td>\n",
              "      <td></td>\n",
              "      <td>www.pagina12.com.ar</td>\n",
              "      <td>326241</td>\n",
              "      <td>el</td>\n",
              "      <td>primer</td>\n",
              "      <td>bombardeo</td>\n",
              "      <td>de</td>\n",
              "      <td>joe</td>\n",
              "      <td>biden</td>\n",
              "      <td>estados</td>\n",
              "      <td>unidos</td>\n",
              "      <td>ataco</td>\n",
              "      <td>siria</td>\n",
              "      <td>None</td>\n",
              "      <td>None</td>\n",
              "    </tr>\n",
              "    <tr>\n",
              "      <th>2</th>\n",
              "      <td>https:</td>\n",
              "      <td></td>\n",
              "      <td>www.pagina12.com.ar</td>\n",
              "      <td>326111</td>\n",
              "      <td>coronavirus</td>\n",
              "      <td>francia</td>\n",
              "      <td>puso</td>\n",
              "      <td>a</td>\n",
              "      <td>20</td>\n",
              "      <td>regiones</td>\n",
              "      <td>bajo</td>\n",
              "      <td>vigilancia</td>\n",
              "      <td>refor</td>\n",
              "      <td>None</td>\n",
              "      <td>None</td>\n",
              "      <td>None</td>\n",
              "    </tr>\n",
              "    <tr>\n",
              "      <th>3</th>\n",
              "      <td>https:</td>\n",
              "      <td></td>\n",
              "      <td>www.pagina12.com.ar</td>\n",
              "      <td>326101</td>\n",
              "      <td>el</td>\n",
              "      <td>plan</td>\n",
              "      <td>de</td>\n",
              "      <td>desconfinamiento</td>\n",
              "      <td>de</td>\n",
              "      <td>johnson</td>\n",
              "      <td>genera</td>\n",
              "      <td>divisiones</td>\n",
              "      <td>None</td>\n",
              "      <td>None</td>\n",
              "      <td>None</td>\n",
              "      <td>None</td>\n",
              "    </tr>\n",
              "    <tr>\n",
              "      <th>4</th>\n",
              "      <td>https:</td>\n",
              "      <td></td>\n",
              "      <td>www.pagina12.com.ar</td>\n",
              "      <td>326145</td>\n",
              "      <td>el</td>\n",
              "      <td>primer</td>\n",
              "      <td>ministro</td>\n",
              "      <td>de</td>\n",
              "      <td>armenia</td>\n",
              "      <td>salio</td>\n",
              "      <td>a</td>\n",
              "      <td>la</td>\n",
              "      <td>calle</td>\n",
              "      <td>a</td>\n",
              "      <td>denunciar</td>\n",
              "      <td>u</td>\n",
              "    </tr>\n",
              "    <tr>\n",
              "      <th>5</th>\n",
              "      <td>https:</td>\n",
              "      <td></td>\n",
              "      <td>www.pagina12.com.ar</td>\n",
              "      <td>326159</td>\n",
              "      <td>incierto</td>\n",
              "      <td>retorno</td>\n",
              "      <td>a</td>\n",
              "      <td>clases</td>\n",
              "      <td>presenciales</td>\n",
              "      <td>en</td>\n",
              "      <td>chile</td>\n",
              "      <td>None</td>\n",
              "      <td>None</td>\n",
              "      <td>None</td>\n",
              "      <td>None</td>\n",
              "      <td>None</td>\n",
              "    </tr>\n",
              "    <tr>\n",
              "      <th>6</th>\n",
              "      <td>https:</td>\n",
              "      <td></td>\n",
              "      <td>www.pagina12.com.ar</td>\n",
              "      <td>326160</td>\n",
              "      <td>la</td>\n",
              "      <td>corte</td>\n",
              "      <td>chilena</td>\n",
              "      <td>revoco</td>\n",
              "      <td>la</td>\n",
              "      <td>sentencia</td>\n",
              "      <td>que</td>\n",
              "      <td>le</td>\n",
              "      <td>impedia</td>\n",
              "      <td>a</td>\n",
              "      <td>carabi</td>\n",
              "      <td>None</td>\n",
              "    </tr>\n",
              "    <tr>\n",
              "      <th>7</th>\n",
              "      <td>https:</td>\n",
              "      <td></td>\n",
              "      <td>www.pagina12.com.ar</td>\n",
              "      <td>326136</td>\n",
              "      <td>estados</td>\n",
              "      <td>unidos</td>\n",
              "      <td>alerta</td>\n",
              "      <td>por</td>\n",
              "      <td>un</td>\n",
              "      <td>posible</td>\n",
              "      <td>nuevo</td>\n",
              "      <td>ataque</td>\n",
              "      <td>al</td>\n",
              "      <td>capitol</td>\n",
              "      <td>None</td>\n",
              "      <td>None</td>\n",
              "    </tr>\n",
              "    <tr>\n",
              "      <th>8</th>\n",
              "      <td>https:</td>\n",
              "      <td></td>\n",
              "      <td>www.pagina12.com.ar</td>\n",
              "      <td>326073</td>\n",
              "      <td>pablo</td>\n",
              "      <td>hasel</td>\n",
              "      <td>desde</td>\n",
              "      <td>la</td>\n",
              "      <td>carcel</td>\n",
              "      <td>arden</td>\n",
              "      <td>las</td>\n",
              "      <td>calles</td>\n",
              "      <td>porque</td>\n",
              "      <td>antes</td>\n",
              "      <td>no</td>\n",
              "      <td>None</td>\n",
              "    </tr>\n",
              "    <tr>\n",
              "      <th>9</th>\n",
              "      <td>https:</td>\n",
              "      <td></td>\n",
              "      <td>www.pagina12.com.ar</td>\n",
              "      <td>326010</td>\n",
              "      <td>polemica</td>\n",
              "      <td>por</td>\n",
              "      <td>supuestos</td>\n",
              "      <td>test</td>\n",
              "      <td>anales</td>\n",
              "      <td>de</td>\n",
              "      <td>coronavirus</td>\n",
              "      <td>a</td>\n",
              "      <td>diplomat</td>\n",
              "      <td>None</td>\n",
              "      <td>None</td>\n",
              "      <td>None</td>\n",
              "    </tr>\n",
              "    <tr>\n",
              "      <th>10</th>\n",
              "      <td>https:</td>\n",
              "      <td></td>\n",
              "      <td>www.pagina12.com.ar</td>\n",
              "      <td>325924</td>\n",
              "      <td>adolfo</td>\n",
              "      <td>perez</td>\n",
              "      <td>esquivel</td>\n",
              "      <td>pide</td>\n",
              "      <td>la</td>\n",
              "      <td>liberacion</td>\n",
              "      <td>del</td>\n",
              "      <td>rapero</td>\n",
              "      <td>pablo</td>\n",
              "      <td>ha</td>\n",
              "      <td>None</td>\n",
              "      <td>None</td>\n",
              "    </tr>\n",
              "  </tbody>\n",
              "</table>\n",
              "</div>"
            ],
            "text/plain": [
              "        0  1                    2       3   ...        12       13         14    15\n",
              "0   https:     www.pagina12.com.ar  326276  ...       por      una     mutaci  None\n",
              "1   https:     www.pagina12.com.ar  326241  ...     ataco    siria       None  None\n",
              "2   https:     www.pagina12.com.ar  326111  ...     refor     None       None  None\n",
              "3   https:     www.pagina12.com.ar  326101  ...      None     None       None  None\n",
              "4   https:     www.pagina12.com.ar  326145  ...     calle        a  denunciar     u\n",
              "5   https:     www.pagina12.com.ar  326159  ...      None     None       None  None\n",
              "6   https:     www.pagina12.com.ar  326160  ...   impedia        a     carabi  None\n",
              "7   https:     www.pagina12.com.ar  326136  ...        al  capitol       None  None\n",
              "8   https:     www.pagina12.com.ar  326073  ...    porque    antes         no  None\n",
              "9   https:     www.pagina12.com.ar  326010  ...  diplomat     None       None  None\n",
              "10  https:     www.pagina12.com.ar  325924  ...     pablo       ha       None  None\n",
              "\n",
              "[11 rows x 16 columns]"
            ]
          },
          "metadata": {
            "tags": []
          },
          "execution_count": 40
        }
      ]
    },
    {
      "cell_type": "code",
      "metadata": {
        "id": "Qu4OznTYJbdQ"
      },
      "source": [
        "#import re\n",
        "\n",
        "#def split_it(palabra):\n",
        "#    return re.findall('/\\b($wpalabra)\\b/i', palabra)\n",
        "#articulos_a['Articulo separado'] = articulos_a.Articulos.apply(lambda x: split_it(x))\n",
        "#articulos_a\n",
        "\n"
      ],
      "execution_count": null,
      "outputs": []
    },
    {
      "cell_type": "code",
      "metadata": {
        "id": "JSbqeH7ZVaLj",
        "colab": {
          "base_uri": "https://localhost:8080/",
          "height": 133
        },
        "outputId": "b5e09ea7-da25-4245-9b9c-e54fd471ff98"
      },
      "source": [
        "secciones = [[secciones[\"politica\"],secciones[\"economia\"], secciones[\"deportes\"], secciones[\"rural\"], secciones[\"mundo\"]]\n",
        "\n",
        "#s_politica = secciones[\"politica\"]\n",
        "\n",
        "\n",
        "#def trabajamos_secciones(secciones):\n",
        "#  secciones = \n",
        "#  total_seccion = \n",
        "\n",
        "a,b = map(list,zip(*s_politica))\n",
        "b = [int(i) for i in b] \n",
        "\n",
        "def suma_de_lista(b):\n",
        "  total = 0\n",
        "  for val in b:\n",
        "    total = total + val\n",
        "  return total\n",
        "\n"
      ],
      "execution_count": null,
      "outputs": [
        {
          "output_type": "error",
          "ename": "SyntaxError",
          "evalue": "ignored",
          "traceback": [
            "\u001b[0;36m  File \u001b[0;32m\"<ipython-input-42-9331913182ad>\"\u001b[0;36m, line \u001b[0;32m10\u001b[0m\n\u001b[0;31m    a,b = map(list,zip(*s_politica))\u001b[0m\n\u001b[0m    ^\u001b[0m\n\u001b[0;31mSyntaxError\u001b[0m\u001b[0;31m:\u001b[0m invalid syntax\n"
          ]
        }
      ]
    },
    {
      "cell_type": "code",
      "metadata": {
        "id": "B79IGFKODYJl"
      },
      "source": [
        ""
      ],
      "execution_count": null,
      "outputs": []
    },
    {
      "cell_type": "code",
      "metadata": {
        "id": "TYpcJs3NJbb_"
      },
      "source": [
        "\n",
        "\n"
      ],
      "execution_count": null,
      "outputs": []
    },
    {
      "cell_type": "code",
      "metadata": {
        "id": "JqiWEuwWXMVZ"
      },
      "source": [
        ""
      ],
      "execution_count": null,
      "outputs": []
    },
    {
      "cell_type": "code",
      "metadata": {
        "id": "olODgg0-XMbD"
      },
      "source": [
        ""
      ],
      "execution_count": null,
      "outputs": []
    },
    {
      "cell_type": "code",
      "metadata": {
        "id": "DY4qaI9xXMeO"
      },
      "source": [
        ""
      ],
      "execution_count": null,
      "outputs": []
    },
    {
      "cell_type": "code",
      "metadata": {
        "id": "6cP2wNL_XMYd"
      },
      "source": [
        ""
      ],
      "execution_count": null,
      "outputs": []
    },
    {
      "cell_type": "code",
      "metadata": {
        "id": "j70jYMwce4JO"
      },
      "source": [
        "import plotly.graph_objects as go\n",
        "import networkx as nx\n",
        "from operator import itemgetter\n",
        "from networkx.algorithms import community\n",
        "\n",
        "uw = pd.DataFrame(secciones[keys])\n",
        "uw.columns = ['Palabras', 'Veces que aparece']\n",
        "# G=nx.from_pandas_dataframe(uw, 0, 'b', ['weight', 'cost'])\n"
      ],
      "execution_count": null,
      "outputs": []
    },
    {
      "cell_type": "code",
      "metadata": {
        "id": "cq0Ptcrij6tt"
      },
      "source": [
        "nxG = nx.Graph()"
      ],
      "execution_count": null,
      "outputs": []
    },
    {
      "cell_type": "code",
      "metadata": {
        "id": "Zrb23l8Fj-g-"
      },
      "source": [
        "G = nx.from_pandas_edgelist(uw, 'Palabras', 'Veces que aparece')"
      ],
      "execution_count": null,
      "outputs": []
    },
    {
      "cell_type": "code",
      "metadata": {
        "id": "Y1t6TWd7j-jo"
      },
      "source": [
        "from matplotlib.pyplot import figure\n",
        "\n",
        "figure(figsize=(10, 8))\n",
        "nx.draw_shell(G, with_labels=True)"
      ],
      "execution_count": null,
      "outputs": []
    },
    {
      "cell_type": "code",
      "metadata": {
        "id": "GTaN7Br9j-mu"
      },
      "source": [
        ""
      ],
      "execution_count": null,
      "outputs": []
    },
    {
      "cell_type": "code",
      "metadata": {
        "id": "6tBkoN9gnLpj"
      },
      "source": [
        ""
      ],
      "execution_count": null,
      "outputs": []
    },
    {
      "cell_type": "code",
      "metadata": {
        "id": "2tLiNM25nLuh"
      },
      "source": [
        ""
      ],
      "execution_count": null,
      "outputs": []
    },
    {
      "cell_type": "code",
      "metadata": {
        "id": "nlL1lDr1nL2Q"
      },
      "source": [
        ""
      ],
      "execution_count": null,
      "outputs": []
    },
    {
      "cell_type": "code",
      "metadata": {
        "id": "86EDqeiOnLzp"
      },
      "source": [
        ""
      ],
      "execution_count": null,
      "outputs": []
    },
    {
      "cell_type": "code",
      "metadata": {
        "id": "LsA7x8IUnLxa"
      },
      "source": [
        ""
      ],
      "execution_count": null,
      "outputs": []
    },
    {
      "cell_type": "code",
      "metadata": {
        "id": "Yxd9ehvpe4V0"
      },
      "source": [
        ""
      ],
      "execution_count": null,
      "outputs": []
    },
    {
      "cell_type": "code",
      "metadata": {
        "id": "WNI-oXHze4YY"
      },
      "source": [
        ""
      ],
      "execution_count": null,
      "outputs": []
    },
    {
      "cell_type": "code",
      "metadata": {
        "id": "hMSnZjJRenW3"
      },
      "source": [
        ""
      ],
      "execution_count": null,
      "outputs": []
    },
    {
      "cell_type": "code",
      "metadata": {
        "id": "A4-WE7uLenhG"
      },
      "source": [
        ""
      ],
      "execution_count": null,
      "outputs": []
    },
    {
      "cell_type": "code",
      "metadata": {
        "id": "uMbAcTroFRQQ"
      },
      "source": [
        ""
      ],
      "execution_count": null,
      "outputs": []
    },
    {
      "cell_type": "markdown",
      "metadata": {
        "id": "mScSU57nYIoy"
      },
      "source": [
        "## Probamos WordClouds"
      ]
    },
    {
      "cell_type": "code",
      "metadata": {
        "id": "SJ3U3_cNOP_q"
      },
      "source": [
        "# Librerías\n",
        "#!pip install wordcloud\n",
        "from wordcloud import WordCloud, ImageColorGenerator\n",
        "from wordcloud import WordCloud, STOPWORDS\n",
        "import matplotlib.pyplot as plt\n",
        "from PIL import Image\n",
        "import numpy as np"
      ],
      "execution_count": null,
      "outputs": []
    },
    {
      "cell_type": "markdown",
      "metadata": {
        "id": "bsLcX-tAS5qa"
      },
      "source": [
        "### Wordcloud grande"
      ]
    },
    {
      "cell_type": "code",
      "metadata": {
        "id": "ztzEtsNuOo9l"
      },
      "source": [
        "from wordcloud import WordCloud, STOPWORDS\n",
        "import matplotlib.pyplot as plt\n",
        "text_wordcloud = df.tail(30)\n",
        "wordcloud = WordCloud(\n",
        "    width = 3000,\n",
        "    height = 2000,\n",
        "    background_color = 'black',\n",
        "    stopwords = STOPWORDS).generate(str(text_wordcloud))\n",
        "fig = plt.figure(\n",
        "    figsize = (20, 10),\n",
        "    facecolor = 'k',\n",
        "    edgecolor = 'k')\n",
        "plt.imshow(wordcloud, interpolation = 'bilinear')\n",
        "plt.axis('off')\n",
        "plt.tight_layout(pad=0)\n",
        "plt.show()"
      ],
      "execution_count": null,
      "outputs": []
    },
    {
      "cell_type": "markdown",
      "metadata": {
        "id": "qOYX4ulLTFrU"
      },
      "source": [
        "### Wordcloud chico"
      ]
    },
    {
      "cell_type": "code",
      "metadata": {
        "id": "YeFVUVtuRy5m"
      },
      "source": [
        "wordcloud = WordCloud().generate(str(text_wordcloud))\n",
        "\n",
        "plt.imshow(wordcloud)\n",
        "plt.axis(\"off\")\n",
        "plt.show()"
      ],
      "execution_count": null,
      "outputs": []
    },
    {
      "cell_type": "markdown",
      "metadata": {
        "id": "Lw7DNkxkTK5y"
      },
      "source": [
        "### Wordcloud Clarín (en proceso) La idea es agarrar el logo de Clarín y su fuente y armar un wordcloud (fuente: Portada)"
      ]
    },
    {
      "cell_type": "code",
      "metadata": {
        "id": "OntDhpQGcuQ5"
      },
      "source": [
        "def generate_wordcloud(words, mask):\n",
        "    word_cloud = WordCloud(width = 512, height = 512, background_color='white', stopwords=STOPWORDS, mask=mask).generate(str(text))\n",
        "    plt.figure(figsize=(10,8),facecolor = 'white', edgecolor='blue')\n",
        "    plt.imshow(word_cloud)\n",
        "    plt.axis('off')\n",
        "    plt.tight_layout(pad=0)\n",
        "    plt.show()\n",
        "    "
      ],
      "execution_count": null,
      "outputs": []
    },
    {
      "cell_type": "code",
      "metadata": {
        "id": "IcMGfOHqcudo"
      },
      "source": [
        "from wordcloud import WordCloud\n",
        "from wordcloud import WordCloud, STOPWORDS\n",
        "from PIL import Image\n",
        "import numpy as np\n",
        "import urllib\n",
        "import requests\n",
        "import matplotlib.pyplot as plt"
      ],
      "execution_count": null,
      "outputs": []
    },
    {
      "cell_type": "code",
      "metadata": {
        "id": "rG9D1JqhcuTQ"
      },
      "source": [
        "text = df.Palabras\n",
        "wordcloud = WordCloud().generate(str(text))\n",
        "\n",
        "plt.imshow(wordcloud)\n",
        "plt.axis(\"off\")\n",
        "plt.show()\n",
        "\n"
      ],
      "execution_count": null,
      "outputs": []
    },
    {
      "cell_type": "code",
      "metadata": {
        "id": "WPufHxUHcuOU"
      },
      "source": [
        "mask = np.array(Image.open(requests.get(\"https://imagizer.imageshack.com/img922/8283/jSbKW4.png\", stream=True).raw))\n",
        "wc = WordCloud(stopwords=STOPWORDS,\n",
        "               mask=mask, background_color=\"white\",\n",
        "               max_words=2000, max_font_size=256,\n",
        "               random_state=42, width=mask.shape[1],\n",
        "               height=mask.shape[0])\n",
        "wc.generate(str(text))\n",
        "plt.imshow(wc, interpolation=\"bilinear\")\n",
        "plt.axis('off')\n",
        "plt.show()"
      ],
      "execution_count": null,
      "outputs": []
    }
  ]
}